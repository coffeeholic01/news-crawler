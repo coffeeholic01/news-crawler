{
 "cells": [
  {
   "cell_type": "markdown",
   "metadata": {},
   "source": [
    "# News Trends"
   ]
  },
  {
   "cell_type": "markdown",
   "metadata": {},
   "source": [
    "### 정원(20214772)"
   ]
  },
  {
   "cell_type": "code",
   "execution_count": 1,
   "metadata": {},
   "outputs": [],
   "source": [
    "import json\n",
    "import requests\n",
    "import pandas as pd\n",
    "import matplotlib.pyplot as plt\n",
    "\n",
    "from config import *"
   ]
  },
  {
   "cell_type": "code",
   "execution_count": 2,
   "metadata": {},
   "outputs": [],
   "source": [
    "query = {\n",
    "  \"query\": {\n",
    "    \"match\": {\n",
    "      \"title\": \"부동산\"\n",
    "    }\n",
    "  },\n",
    "  \"size\": 0,\n",
    "  \"aggs\": {\n",
    "    \"group_by_date\":{\n",
    "      \"date_histogram\":{\n",
    "        \"field\": \"created_at\",\n",
    "        \"interval\": \"day\"\n",
    "      }\n",
    "    }\n",
    "  }\n",
    "}"
   ]
  },
  {
   "cell_type": "code",
   "execution_count": 3,
   "metadata": {},
   "outputs": [],
   "source": [
    "query = json.dumps(query)"
   ]
  },
  {
   "cell_type": "code",
   "execution_count": 4,
   "metadata": {},
   "outputs": [],
   "source": [
    "headers = {\n",
    "    'Content-Type': 'application/json'\n",
    "}"
   ]
  },
  {
   "cell_type": "code",
   "execution_count": 5,
   "metadata": {},
   "outputs": [],
   "source": [
    "resp = requests.get(\n",
    "    f'{ELASTICSEARCH_URL}/news/_search',\n",
    "    headers=headers,\n",
    "    data = query,\n",
    "    auth = ELASTICSEARCH_AUTH    \n",
    ")"
   ]
  },
  {
   "cell_type": "code",
   "execution_count": 6,
   "metadata": {},
   "outputs": [
    {
     "data": {
      "text/plain": [
       "200"
      ]
     },
     "execution_count": 6,
     "metadata": {},
     "output_type": "execute_result"
    }
   ],
   "source": [
    "resp.status_code"
   ]
  },
  {
   "cell_type": "code",
   "execution_count": 7,
   "metadata": {},
   "outputs": [],
   "source": [
    "results = resp.json()"
   ]
  },
  {
   "cell_type": "code",
   "execution_count": 8,
   "metadata": {},
   "outputs": [],
   "source": [
    "buckets = results['aggregations']['group_by_date']['buckets']"
   ]
  },
  {
   "cell_type": "code",
   "execution_count": 9,
   "metadata": {},
   "outputs": [],
   "source": [
    "df = pd.DataFrame(buckets)"
   ]
  },
  {
   "cell_type": "code",
   "execution_count": 10,
   "metadata": {},
   "outputs": [],
   "source": [
    "df['date'] = pd.to_datetime(df['key_as_string'])"
   ]
  },
  {
   "cell_type": "code",
   "execution_count": 11,
   "metadata": {},
   "outputs": [],
   "source": [
    "df = df.set_index('date')"
   ]
  },
  {
   "cell_type": "code",
   "execution_count": 12,
   "metadata": {},
   "outputs": [
    {
     "data": {
      "text/html": [
       "<div>\n",
       "<style scoped>\n",
       "    .dataframe tbody tr th:only-of-type {\n",
       "        vertical-align: middle;\n",
       "    }\n",
       "\n",
       "    .dataframe tbody tr th {\n",
       "        vertical-align: top;\n",
       "    }\n",
       "\n",
       "    .dataframe thead th {\n",
       "        text-align: right;\n",
       "    }\n",
       "</style>\n",
       "<table border=\"1\" class=\"dataframe\">\n",
       "  <thead>\n",
       "    <tr style=\"text-align: right;\">\n",
       "      <th></th>\n",
       "      <th>key_as_string</th>\n",
       "      <th>key</th>\n",
       "      <th>doc_count</th>\n",
       "    </tr>\n",
       "    <tr>\n",
       "      <th>date</th>\n",
       "      <th></th>\n",
       "      <th></th>\n",
       "      <th></th>\n",
       "    </tr>\n",
       "  </thead>\n",
       "  <tbody>\n",
       "    <tr>\n",
       "      <th>2022-08-01 00:00:00+00:00</th>\n",
       "      <td>2022-08-01T00:00:00.000Z</td>\n",
       "      <td>1659312000000</td>\n",
       "      <td>22</td>\n",
       "    </tr>\n",
       "    <tr>\n",
       "      <th>2022-08-02 00:00:00+00:00</th>\n",
       "      <td>2022-08-02T00:00:00.000Z</td>\n",
       "      <td>1659398400000</td>\n",
       "      <td>34</td>\n",
       "    </tr>\n",
       "    <tr>\n",
       "      <th>2022-08-03 00:00:00+00:00</th>\n",
       "      <td>2022-08-03T00:00:00.000Z</td>\n",
       "      <td>1659484800000</td>\n",
       "      <td>48</td>\n",
       "    </tr>\n",
       "    <tr>\n",
       "      <th>2022-08-04 00:00:00+00:00</th>\n",
       "      <td>2022-08-04T00:00:00.000Z</td>\n",
       "      <td>1659571200000</td>\n",
       "      <td>15</td>\n",
       "    </tr>\n",
       "    <tr>\n",
       "      <th>2022-08-05 00:00:00+00:00</th>\n",
       "      <td>2022-08-05T00:00:00.000Z</td>\n",
       "      <td>1659657600000</td>\n",
       "      <td>11</td>\n",
       "    </tr>\n",
       "    <tr>\n",
       "      <th>2022-08-06 00:00:00+00:00</th>\n",
       "      <td>2022-08-06T00:00:00.000Z</td>\n",
       "      <td>1659744000000</td>\n",
       "      <td>4</td>\n",
       "    </tr>\n",
       "    <tr>\n",
       "      <th>2022-08-07 00:00:00+00:00</th>\n",
       "      <td>2022-08-07T00:00:00.000Z</td>\n",
       "      <td>1659830400000</td>\n",
       "      <td>17</td>\n",
       "    </tr>\n",
       "    <tr>\n",
       "      <th>2022-08-08 00:00:00+00:00</th>\n",
       "      <td>2022-08-08T00:00:00.000Z</td>\n",
       "      <td>1659916800000</td>\n",
       "      <td>17</td>\n",
       "    </tr>\n",
       "    <tr>\n",
       "      <th>2022-08-09 00:00:00+00:00</th>\n",
       "      <td>2022-08-09T00:00:00.000Z</td>\n",
       "      <td>1660003200000</td>\n",
       "      <td>20</td>\n",
       "    </tr>\n",
       "    <tr>\n",
       "      <th>2022-08-10 00:00:00+00:00</th>\n",
       "      <td>2022-08-10T00:00:00.000Z</td>\n",
       "      <td>1660089600000</td>\n",
       "      <td>28</td>\n",
       "    </tr>\n",
       "    <tr>\n",
       "      <th>2022-08-11 00:00:00+00:00</th>\n",
       "      <td>2022-08-11T00:00:00.000Z</td>\n",
       "      <td>1660176000000</td>\n",
       "      <td>26</td>\n",
       "    </tr>\n",
       "    <tr>\n",
       "      <th>2022-08-12 00:00:00+00:00</th>\n",
       "      <td>2022-08-12T00:00:00.000Z</td>\n",
       "      <td>1660262400000</td>\n",
       "      <td>41</td>\n",
       "    </tr>\n",
       "    <tr>\n",
       "      <th>2022-08-13 00:00:00+00:00</th>\n",
       "      <td>2022-08-13T00:00:00.000Z</td>\n",
       "      <td>1660348800000</td>\n",
       "      <td>8</td>\n",
       "    </tr>\n",
       "    <tr>\n",
       "      <th>2022-08-14 00:00:00+00:00</th>\n",
       "      <td>2022-08-14T00:00:00.000Z</td>\n",
       "      <td>1660435200000</td>\n",
       "      <td>7</td>\n",
       "    </tr>\n",
       "    <tr>\n",
       "      <th>2022-08-15 00:00:00+00:00</th>\n",
       "      <td>2022-08-15T00:00:00.000Z</td>\n",
       "      <td>1660521600000</td>\n",
       "      <td>7</td>\n",
       "    </tr>\n",
       "    <tr>\n",
       "      <th>2022-08-16 00:00:00+00:00</th>\n",
       "      <td>2022-08-16T00:00:00.000Z</td>\n",
       "      <td>1660608000000</td>\n",
       "      <td>80</td>\n",
       "    </tr>\n",
       "    <tr>\n",
       "      <th>2022-08-17 00:00:00+00:00</th>\n",
       "      <td>2022-08-17T00:00:00.000Z</td>\n",
       "      <td>1660694400000</td>\n",
       "      <td>16</td>\n",
       "    </tr>\n",
       "    <tr>\n",
       "      <th>2022-08-18 00:00:00+00:00</th>\n",
       "      <td>2022-08-18T00:00:00.000Z</td>\n",
       "      <td>1660780800000</td>\n",
       "      <td>22</td>\n",
       "    </tr>\n",
       "    <tr>\n",
       "      <th>2022-08-19 00:00:00+00:00</th>\n",
       "      <td>2022-08-19T00:00:00.000Z</td>\n",
       "      <td>1660867200000</td>\n",
       "      <td>19</td>\n",
       "    </tr>\n",
       "    <tr>\n",
       "      <th>2022-08-20 00:00:00+00:00</th>\n",
       "      <td>2022-08-20T00:00:00.000Z</td>\n",
       "      <td>1660953600000</td>\n",
       "      <td>7</td>\n",
       "    </tr>\n",
       "    <tr>\n",
       "      <th>2022-08-21 00:00:00+00:00</th>\n",
       "      <td>2022-08-21T00:00:00.000Z</td>\n",
       "      <td>1661040000000</td>\n",
       "      <td>6</td>\n",
       "    </tr>\n",
       "    <tr>\n",
       "      <th>2022-08-22 00:00:00+00:00</th>\n",
       "      <td>2022-08-22T00:00:00.000Z</td>\n",
       "      <td>1661126400000</td>\n",
       "      <td>20</td>\n",
       "    </tr>\n",
       "    <tr>\n",
       "      <th>2022-08-23 00:00:00+00:00</th>\n",
       "      <td>2022-08-23T00:00:00.000Z</td>\n",
       "      <td>1661212800000</td>\n",
       "      <td>39</td>\n",
       "    </tr>\n",
       "    <tr>\n",
       "      <th>2022-08-24 00:00:00+00:00</th>\n",
       "      <td>2022-08-24T00:00:00.000Z</td>\n",
       "      <td>1661299200000</td>\n",
       "      <td>16</td>\n",
       "    </tr>\n",
       "    <tr>\n",
       "      <th>2022-08-25 00:00:00+00:00</th>\n",
       "      <td>2022-08-25T00:00:00.000Z</td>\n",
       "      <td>1661385600000</td>\n",
       "      <td>31</td>\n",
       "    </tr>\n",
       "    <tr>\n",
       "      <th>2022-08-26 00:00:00+00:00</th>\n",
       "      <td>2022-08-26T00:00:00.000Z</td>\n",
       "      <td>1661472000000</td>\n",
       "      <td>28</td>\n",
       "    </tr>\n",
       "    <tr>\n",
       "      <th>2022-08-27 00:00:00+00:00</th>\n",
       "      <td>2022-08-27T00:00:00.000Z</td>\n",
       "      <td>1661558400000</td>\n",
       "      <td>3</td>\n",
       "    </tr>\n",
       "    <tr>\n",
       "      <th>2022-08-28 00:00:00+00:00</th>\n",
       "      <td>2022-08-28T00:00:00.000Z</td>\n",
       "      <td>1661644800000</td>\n",
       "      <td>14</td>\n",
       "    </tr>\n",
       "    <tr>\n",
       "      <th>2022-08-29 00:00:00+00:00</th>\n",
       "      <td>2022-08-29T00:00:00.000Z</td>\n",
       "      <td>1661731200000</td>\n",
       "      <td>15</td>\n",
       "    </tr>\n",
       "    <tr>\n",
       "      <th>2022-08-30 00:00:00+00:00</th>\n",
       "      <td>2022-08-30T00:00:00.000Z</td>\n",
       "      <td>1661817600000</td>\n",
       "      <td>21</td>\n",
       "    </tr>\n",
       "    <tr>\n",
       "      <th>2022-08-31 00:00:00+00:00</th>\n",
       "      <td>2022-08-31T00:00:00.000Z</td>\n",
       "      <td>1661904000000</td>\n",
       "      <td>34</td>\n",
       "    </tr>\n",
       "  </tbody>\n",
       "</table>\n",
       "</div>"
      ],
      "text/plain": [
       "                                      key_as_string            key  doc_count\n",
       "date                                                                         \n",
       "2022-08-01 00:00:00+00:00  2022-08-01T00:00:00.000Z  1659312000000         22\n",
       "2022-08-02 00:00:00+00:00  2022-08-02T00:00:00.000Z  1659398400000         34\n",
       "2022-08-03 00:00:00+00:00  2022-08-03T00:00:00.000Z  1659484800000         48\n",
       "2022-08-04 00:00:00+00:00  2022-08-04T00:00:00.000Z  1659571200000         15\n",
       "2022-08-05 00:00:00+00:00  2022-08-05T00:00:00.000Z  1659657600000         11\n",
       "2022-08-06 00:00:00+00:00  2022-08-06T00:00:00.000Z  1659744000000          4\n",
       "2022-08-07 00:00:00+00:00  2022-08-07T00:00:00.000Z  1659830400000         17\n",
       "2022-08-08 00:00:00+00:00  2022-08-08T00:00:00.000Z  1659916800000         17\n",
       "2022-08-09 00:00:00+00:00  2022-08-09T00:00:00.000Z  1660003200000         20\n",
       "2022-08-10 00:00:00+00:00  2022-08-10T00:00:00.000Z  1660089600000         28\n",
       "2022-08-11 00:00:00+00:00  2022-08-11T00:00:00.000Z  1660176000000         26\n",
       "2022-08-12 00:00:00+00:00  2022-08-12T00:00:00.000Z  1660262400000         41\n",
       "2022-08-13 00:00:00+00:00  2022-08-13T00:00:00.000Z  1660348800000          8\n",
       "2022-08-14 00:00:00+00:00  2022-08-14T00:00:00.000Z  1660435200000          7\n",
       "2022-08-15 00:00:00+00:00  2022-08-15T00:00:00.000Z  1660521600000          7\n",
       "2022-08-16 00:00:00+00:00  2022-08-16T00:00:00.000Z  1660608000000         80\n",
       "2022-08-17 00:00:00+00:00  2022-08-17T00:00:00.000Z  1660694400000         16\n",
       "2022-08-18 00:00:00+00:00  2022-08-18T00:00:00.000Z  1660780800000         22\n",
       "2022-08-19 00:00:00+00:00  2022-08-19T00:00:00.000Z  1660867200000         19\n",
       "2022-08-20 00:00:00+00:00  2022-08-20T00:00:00.000Z  1660953600000          7\n",
       "2022-08-21 00:00:00+00:00  2022-08-21T00:00:00.000Z  1661040000000          6\n",
       "2022-08-22 00:00:00+00:00  2022-08-22T00:00:00.000Z  1661126400000         20\n",
       "2022-08-23 00:00:00+00:00  2022-08-23T00:00:00.000Z  1661212800000         39\n",
       "2022-08-24 00:00:00+00:00  2022-08-24T00:00:00.000Z  1661299200000         16\n",
       "2022-08-25 00:00:00+00:00  2022-08-25T00:00:00.000Z  1661385600000         31\n",
       "2022-08-26 00:00:00+00:00  2022-08-26T00:00:00.000Z  1661472000000         28\n",
       "2022-08-27 00:00:00+00:00  2022-08-27T00:00:00.000Z  1661558400000          3\n",
       "2022-08-28 00:00:00+00:00  2022-08-28T00:00:00.000Z  1661644800000         14\n",
       "2022-08-29 00:00:00+00:00  2022-08-29T00:00:00.000Z  1661731200000         15\n",
       "2022-08-30 00:00:00+00:00  2022-08-30T00:00:00.000Z  1661817600000         21\n",
       "2022-08-31 00:00:00+00:00  2022-08-31T00:00:00.000Z  1661904000000         34"
      ]
     },
     "execution_count": 12,
     "metadata": {},
     "output_type": "execute_result"
    }
   ],
   "source": [
    "df"
   ]
  },
  {
   "cell_type": "code",
   "execution_count": 13,
   "metadata": {},
   "outputs": [],
   "source": [
    "plt.rcParams['figure.figsize'] = (10, 4)"
   ]
  },
  {
   "cell_type": "code",
   "execution_count": 14,
   "metadata": {},
   "outputs": [
    {
     "data": {
      "image/png": "[encoded data removed]",
      "text/plain": [
       "<Figure size 1000x400 with 1 Axes>"
      ]
     },
     "metadata": {},
     "output_type": "display_data"
    }
   ],
   "source": [
    "plt.plot(df['doc_count'])\n",
    "plt.xticks(rotation=30)\n",
    "plt.show()"
   ]
  },
  {
   "cell_type": "code",
   "execution_count": null,
   "metadata": {},
   "outputs": [],
   "source": []
  }
 ],
 "metadata": {
  "kernelspec": {
   "display_name": "Python 3.9.7 ('base')",
   "language": "python",
   "name": "python3"
  },
  "language_info": {
   "codemirror_mode": {
    "name": "ipython",
    "version": 3
   },
   "file_extension": ".py",
   "mimetype": "text/x-python",
   "name": "python",
   "nbconvert_exporter": "python",
   "pygments_lexer": "ipython3",
   "version": "3.9.13"
  },
  "orig_nbformat": 4,
  "vscode": {
   "interpreter": {
    "hash": "abb7e5579196e0255201aa8ce6f49d6433b00046125458a8e542a39b405dab38"
   }
  }
 },
 "nbformat": 4,
 "nbformat_minor": 2
}
